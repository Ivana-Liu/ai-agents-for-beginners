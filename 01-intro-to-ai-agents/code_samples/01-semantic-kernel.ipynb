{
 "cells": [
  {
   "cell_type": "markdown",
   "metadata": {},
   "source": [
    "# Semantic Kernel \n",
    "\n",
    "In this code sample, you will use the [Semantic Kernel](https://aka.ms/ai-agents-beginners/semantic-kernel) AI Framework to create a basic agent. \n",
    "\n",
    "The goal of this sample is to show you the steps that we will later use in the additional code samples when implementing the different agentic patterns. "
   ]
  },
  {
   "cell_type": "markdown",
   "metadata": {},
   "source": [
    "## Import the Needed Python Packages "
   ]
  },
  {
   "cell_type": "code",
   "execution_count": null,
   "metadata": {},
   "outputs": [],
   "source": [
    "import os #\n",
    "from typing import Annotated #\n",
    "from openai import AsyncOpenAI #\n",
    "\n",
    "from dotenv import load_dotenv #\n",
    "\n",
    "from semantic_kernel.agents import ChatCompletionAgent, ChatHistoryAgentThread\n",
    "from semantic_kernel.connectors.ai.open_ai import OpenAIChatCompletion #\n",
    "from semantic_kernel.functions import kernel_function #"
   ]
  },
  {
   "cell_type": "markdown",
   "metadata": {},
   "source": [
    "## Creating the Client\n",
    "\n",
    "In this sample, we will use [GitHub Models](https://aka.ms/ai-agents-beginners/github-models) for access to the LLM. \n",
    "\n",
    "The `ai_model_id` is defined as `gpt-4o-mini`. Try changing the model to another model available on the GitHub Models marketplace to see the different results. \n",
    "\n",
    "For us to use the `Azure Inference SDK` that is used for the `base_url` for GitHub Models, we will use the `OpenAIChatCompletion` connector within Semantic Kernel. There are also other [available connectors](https://learn.microsoft.com/semantic-kernel/concepts/ai-services/chat-completion) to use Semantic Kernel for other model providers."
   ]
  },
  {
   "cell_type": "code",
   "execution_count": null,
   "metadata": {},
   "outputs": [],
   "source": [
    "import random   \n",
    "\n",
    "# Define a sample plugin for the sample\n",
    "\n",
    "class DestinationsPlugin: \n",
    "    '''travel_agent = DestinationPlugin()\n",
    "    suggestion1 = travel_agent.get_random_destination()\n",
    "    '''\n",
    "    \"\"\"A List of Random Destinations for a vacation.\"\"\"\n",
    "\n",
    "    def __init__(self):\n",
    "        # List of vacation destinations\n",
    "        self.destinations = [\n",
    "            \"Barcelona, Spain\",\n",
    "            \"Paris, France\",\n",
    "            \"Berlin, Germany\",\n",
    "            \"Tokyo, Japan\",\n",
    "            \"Sydney, Australia\",\n",
    "            \"New York, USA\",\n",
    "            \"Cairo, Egypt\",\n",
    "            \"Cape Town, South Africa\",\n",
    "            \"Rio de Janeiro, Brazil\",\n",
    "            \"Bali, Indonesia\"\n",
    "        ]\n",
    "        # Track last destination to avoid repeats\n",
    "        self.last_destination = None\n",
    "\n",
    "    @kernel_function(description=\"Provides a random vacation destination.\")\n",
    "    def get_random_destination(self) -> Annotated[str, \"Returns a random vacation destination.\"]: \n",
    "        \"\"\"Imported Annotated from typing: allows you to add extra metadata(comments) to a type.\"\"\"\n",
    "        # Get available destinations (excluding last one if possible)\n",
    "        available_destinations = self.destinations.copy()\n",
    "        if self.last_destination and len(available_destinations) > 1: #掐头去尾\n",
    "            available_destinations.remove(self.last_destination)    \n",
    "\n",
    "        # Select a random destination\n",
    "        destination = random.choice(available_destinations)\n",
    "\n",
    "        # Update the last destination\n",
    "        self.last_destination = destination\n",
    "\n",
    "        return destination"
   ]
  },
  {
   "cell_type": "code",
   "execution_count": null,
   "metadata": {},
   "outputs": [],
   "source": [
    "\"\"\"6.9 16:20\"\"\"\n",
    "class DestinaitonsPlugin:\n",
    "    def __init__(self):\n",
    "        self.destinations = [\n",
    "            \"canada\",\n",
    "            'us'\n",
    "        ]\n",
    "\n",
    "        self.last = None\n",
    "\n",
    "    @kernel_function(name='generate_destinations', description=\"Randomly generate a travel destination\")\n",
    "    def travel_destination(self)->str:\n",
    "        available_destinations = self.destinations.copy()\n",
    "        self.last = current_dest\n",
    "        if self.last and len(available_destinations) > 1:\n",
    "            available_destinations.remove(self.last)\n",
    "        \n",
    "        current_dest = random.choice(available_destinations)\n",
    "        \"\"\"random.choice() expects a sequence (like a list or tuple) as its argument\"\"\"\n",
    "\n",
    "        return current_dest\n"
   ]
  },
  {
   "cell_type": "code",
   "execution_count": null,
   "metadata": {},
   "outputs": [],
   "source": [
    "\"\"\"A practice when learning python function part\"\"\"\n",
    "class Employee:\n",
    "    rate = 1.04\n",
    "    def __init__(self, first, last):\n",
    "        self.first = first\n",
    "        self.last = last\n",
    "        self.email = first + \".\" + last + \"@company.com\"\n",
    "    def fullname(self):\n",
    "        return self.first + ' ' + self.last\n",
    "    @classmethod\n",
    "    def set_rate(cls, amount):\n",
    "        cls.rate = amount\n",
    "\n",
    "emp1 = Employee('Ivana', 'Lee')\n",
    "emp2 = Employee('yifei', 'liu')\n",
    "Employee.set_rate(1.3)\n",
    "emp1.set_rate(1.05)\n",
    "print(emp2.rate)\n",
    "print(emp1.rate)"
   ]
  },
  {
   "cell_type": "code",
   "execution_count": null,
   "metadata": {},
   "outputs": [],
   "source": [
    "load_dotenv()\n",
    "\"\"\"This function loads environment variables from a .env file into your Python environment.\"\"\"\n",
    "# from openai import AsyncOpenAI\n",
    "client = AsyncOpenAI(\n",
    "    api_key=os.environ.get(\"GITHUB_TOKEN\"), \n",
    "    base_url=\"https://models.inference.ai.azure.com/\",\n",
    ")\n",
    "\n",
    "# Create an AI Service that will be used by the `ChatCompletionAgent`\n",
    "# from semantic_kernel.connectors.ai.open_ai import OpenAIChatCompletion\n",
    "chat_completion_service = OpenAIChatCompletion(\n",
    "    ai_model_id=\"gpt-4o-mini\",\n",
    "    async_client=client,\n",
    ")"
   ]
  },
  {
   "cell_type": "markdown",
   "metadata": {},
   "source": [
    "## Creating the Agent \n",
    "\n",
    "Below we create the Agent called `TravelAgent`.\n",
    "\n",
    "For this example, we are using very simple instructions. You can change these instructions to see how the agent responds differently. "
   ]
  },
  {
   "cell_type": "code",
   "execution_count": 44,
   "metadata": {},
   "outputs": [],
   "source": [
    "agent = ChatCompletionAgent(\n",
    "    service=chat_completion_service, \n",
    "    plugins=[DestinationsPlugin(), ], # The plugins parameter expects a list of plugin instances.\n",
    "    name=\"TravelAgent\",\n",
    "    instructions=\"You are a helpful AI Agent that can help plan vacations for customers at random destinations\",\n",
    ")"
   ]
  },
  {
   "cell_type": "markdown",
   "metadata": {},
   "source": [
    "## Running the Agent\n",
    "\n",
    "Now we can run the Agent by defining a thread of type `ChatHistoryAgentThread`.  Any required system messages are provided to the agent's invoke_stream `messages` keyword argument.\n",
    "\n",
    "After these are defined, we create a `user_inputs` that will be what the user is sending to the agent. In this case, we have set this message to `Plan me a sunny vacation`. \n",
    "\n",
    "Feel free to change this message to see how the agent responds differently. "
   ]
  },
  {
   "cell_type": "code",
   "execution_count": 48,
   "metadata": {},
   "outputs": [
    {
     "name": "stdout",
     "output_type": "stream",
     "text": [
      "# User: plan a trip for me\n",
      "\n",
      "# TravelAgent: I've planned a trip for you to **Paris, France**! Here are some highlights you might consider for your visit:\n",
      "\n",
      "### Top Attractions:\n",
      "1. **Eiffel Tower** - Don’t miss the stunning views from the top!\n",
      "2. **Louvre Museum** - Home to thousands of works of art, including the Mona Lisa.\n",
      "3. **Notre-Dame Cathedral** - A masterpiece of French Gothic architecture.\n",
      "4. **Montmartre** - Explore the charming streets and visit the Basilica of Sacré-Cœur.\n",
      "5. **Champs-Élysées and the Arc de Triomphe** - Perfect for a leisurely stroll and some shopping.\n",
      "\n",
      "### Suggested Itinerary:\n",
      "#### Day 1:\n",
      "- Arrive in Paris\n",
      "- Visit the Eiffel Tower in the evening for a sunset view\n",
      "\n",
      "#### Day 2:\n",
      "- Morning visit to the Louvre Museum\n",
      "- Afternoon walk in the Tuileries Garden\n",
      "- Dinner in the Latin Quarter\n",
      "\n",
      "#### Day 3:\n",
      "- Explore Montmartre, visit the Basilica of Sacré-Cœur, and enjoy the local art scene\n",
      "- Evening: Seine River cruise\n",
      "\n",
      "#### Day 4:\n",
      "- Visit Notre-Dame Cathedral and Sainte-Chapelle\n",
      "- Afternoon shopping on Champs-Élysées\n",
      "- Visit the Arc de Triomphe\n",
      "\n",
      "### Culinary Experiences:\n",
      "- Try traditional French cuisine at a local bistro.\n",
      "- Don’t forget to indulge in pastries from famous patisseries like Pierre Hermé or Ladurée.\n",
      "\n",
      "### Tips:\n",
      "- Consider getting a Paris Museum Pass for access to many attractions.\n",
      "- Use the Paris Metro for efficient travel around the city.\n",
      "\n",
      "Would you like more specific information on accommodations, transportation, or activities?\n"
     ]
    }
   ],
   "source": [
    "async def main():\n",
    "    # Create a new thread for the agent\n",
    "    # If no thread is provided, a new thread will be\n",
    "    # created and returned with the initial response\n",
    "    thread: ChatHistoryAgentThread | None = None\n",
    "\n",
    "    user_inputs = [\n",
    "        \"plan a trip for me\",\n",
    "    ]\n",
    "\n",
    "    for user_input in user_inputs:\n",
    "        print(f\"# User: {user_input}\\n\")\n",
    "        first_chunk = True\n",
    "        async for response in agent.invoke_stream(\n",
    "            messages=user_input, thread=thread,\n",
    "        ):\n",
    "            # 5. Print the response\n",
    "            if first_chunk:\n",
    "                print(f\"# {response.name}: \", end=\"\", flush=True)\n",
    "                first_chunk = False\n",
    "            print(f\"{response}\", end=\"\", flush=True)\n",
    "            thread = response.thread\n",
    "        print()\n",
    "\n",
    "    # Clean up the thread\n",
    "    await thread.delete() if thread else None\n",
    "\n",
    "await main()"
   ]
  }
 ],
 "metadata": {
  "kernelspec": {
   "display_name": "venv",
   "language": "python",
   "name": "python3"
  },
  "language_info": {
   "codemirror_mode": {
    "name": "ipython",
    "version": 3
   },
   "file_extension": ".py",
   "mimetype": "text/x-python",
   "name": "python",
   "nbconvert_exporter": "python",
   "pygments_lexer": "ipython3",
   "version": "3.13.3"
  }
 },
 "nbformat": 4,
 "nbformat_minor": 2
}
